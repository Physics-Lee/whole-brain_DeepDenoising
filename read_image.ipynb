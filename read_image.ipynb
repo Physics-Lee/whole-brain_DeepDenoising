{
 "cells": [
  {
   "cell_type": "code",
   "execution_count": 1,
   "metadata": {},
   "outputs": [],
   "source": [
    "import cv2"
   ]
  },
  {
   "cell_type": "code",
   "execution_count": 7,
   "metadata": {},
   "outputs": [],
   "source": [
    "# path\n",
    "path = r'D:\\Public_repository\\whole-brain_DeepDenoising\\sample_runs\\VentralCord\\test.png'\n",
    "\n",
    "# Using cv2.imread() method\n",
    "img = cv2.imread(path)\n",
    "\n",
    "# Displaying the image\n",
    "cv2.imshow('image', img)\n",
    "cv2.waitKey()\n",
    "cv2.destroyAllWindows()"
   ]
  }
 ],
 "metadata": {
  "kernelspec": {
   "display_name": "base",
   "language": "python",
   "name": "python3"
  },
  "language_info": {
   "codemirror_mode": {
    "name": "ipython",
    "version": 3
   },
   "file_extension": ".py",
   "mimetype": "text/x-python",
   "name": "python",
   "nbconvert_exporter": "python",
   "pygments_lexer": "ipython3",
   "version": "3.9.7"
  },
  "orig_nbformat": 4,
  "vscode": {
   "interpreter": {
    "hash": "cf245e2d5e4a2aef58e3292d21e566cf0ee03e2e9151002f5de995cbc6bcfd67"
   }
  }
 },
 "nbformat": 4,
 "nbformat_minor": 2
}
